{
 "cells": [
  {
   "cell_type": "code",
   "execution_count": 28,
   "metadata": {
    "collapsed": true
   },
   "outputs": [],
   "source": [
    "import pandas as pd\n",
    "import numpy as np\n",
    "from ast import literal_eval\n",
    "import joblib as jb\n",
    "%matplotlib inline\n",
    "from sklearn.metrics import mean_squared_error\n",
    "from sklearn.preprocessing import OneHotEncoder\n",
    "from sklearn.pipeline import make_pipeline\n",
    "from sklearn.tree import DecisionTreeRegressor\n"
   ]
  },
  {
   "cell_type": "markdown",
   "metadata": {},
   "source": [
    "# Data Reading and Parsing\n",
    "- Let's read the data as a string, transform it to a dictionary, and then use Pandas tools to parse the json\n",
    "- Let's create an identifier for each purchase \"nnota\""
   ]
  },
  {
   "cell_type": "code",
   "execution_count": 4,
   "metadata": {
    "collapsed": true
   },
   "outputs": [],
   "source": [
    "with open('sample.txt', 'r') as fl:\n",
    "    fl = fl.read()\n",
    "data = pd.io.json.json_normalize(literal_eval(fl))\n",
    "data['nnota'] = np.arange(data.shape[0])"
   ]
  },
  {
   "cell_type": "markdown",
   "metadata": {},
   "source": [
    "Here we want to parse the products of each purchase in its own dataframe, so that we can use this data. We do it in parallel to go faster"
   ]
  },
  {
   "cell_type": "code",
   "execution_count": 5,
   "metadata": {},
   "outputs": [
    {
     "name": "stderr",
     "output_type": "stream",
     "text": [
      "[Parallel(n_jobs=-1)]: Done  48 tasks      | elapsed:    0.1s\n",
      "[Parallel(n_jobs=-1)]: Done 1635 out of 1635 | elapsed:    2.1s finished\n"
     ]
    }
   ],
   "source": [
    "def parseProds(i):\n",
    "    row = data.iloc[i]\n",
    "    df = pd.io.json.json_normalize(row['dets'])\n",
    "    df['nnota'] = row['nnota']\n",
    "    return df\n",
    "\n",
    "res = jb.Parallel(n_jobs=-1, verbose=5)(jb.delayed(parseProds)(i) for i in range(data.shape[0]))\n",
    "prod_df = pd.concat(res)"
   ]
  },
  {
   "cell_type": "markdown",
   "metadata": {},
   "source": [
    "Drop original product list column and merge with the purchase data into the \"full\" dataframe"
   ]
  },
  {
   "cell_type": "code",
   "execution_count": 6,
   "metadata": {
    "collapsed": true
   },
   "outputs": [],
   "source": [
    "full = prod_df.merge(data.drop('dets', axis=1), how='left', on='nnota')"
   ]
  },
  {
   "cell_type": "markdown",
   "metadata": {},
   "source": [
    "Drop any columns that have only one value"
   ]
  },
  {
   "cell_type": "code",
   "execution_count": 7,
   "metadata": {
    "collapsed": true
   },
   "outputs": [],
   "source": [
    "drops = []\n",
    "for col in full.columns:\n",
    "    if full[col].nunique() == 1:\n",
    "        drops.append(col)\n",
    "full.drop(drops, axis=1, inplace=True)"
   ]
  },
  {
   "cell_type": "markdown",
   "metadata": {},
   "source": [
    "Create a date column with an easier name, and extract the week"
   ]
  },
  {
   "cell_type": "code",
   "execution_count": 8,
   "metadata": {
    "collapsed": true
   },
   "outputs": [],
   "source": [
    "full['date'] = pd.to_datetime(full['ide.dhEmi.$date'])\n",
    "full['week'] = full['date'].dt.week"
   ]
  },
  {
   "cell_type": "markdown",
   "metadata": {},
   "source": [
    "# Forecasting model\n",
    "- To \"forecast sales next week\" we need to take some decisions according to the value this model can bring to the business. Based on my experience, predicting the amount of each item that will be sold next week is very useful for inventory managers. So I assume this is the most valuable forecast for the business in this case (in real life we would ask questions to the client to clarify)\n",
    "- To make sure our model can predict new data, let's separate the first 2 weeks for \"training\" and the last week for \"validation\".\n",
    "- The metric used to evaluate the model is RMSLE (Root Mean Squared Logarithmic Error), which is a good approximation of the percentage error."
   ]
  },
  {
   "cell_type": "markdown",
   "metadata": {},
   "source": [
    "Let's transform the data into a \"week, product, sales quantity\" format, so that we can predict the amount of each item that will be sold next week"
   ]
  },
  {
   "cell_type": "code",
   "execution_count": 9,
   "metadata": {},
   "outputs": [
    {
     "data": {
      "text/html": [
       "<div>\n",
       "<table border=\"1\" class=\"dataframe\">\n",
       "  <thead>\n",
       "    <tr style=\"text-align: right;\">\n",
       "      <th></th>\n",
       "      <th>week</th>\n",
       "      <th>prod.xProd</th>\n",
       "      <th>prod.qCom</th>\n",
       "    </tr>\n",
       "  </thead>\n",
       "  <tbody>\n",
       "    <tr>\n",
       "      <th>0</th>\n",
       "      <td>1</td>\n",
       "      <td>AGUA</td>\n",
       "      <td>212.000</td>\n",
       "    </tr>\n",
       "    <tr>\n",
       "      <th>1</th>\n",
       "      <td>1</td>\n",
       "      <td>BUFFET</td>\n",
       "      <td>292.276</td>\n",
       "    </tr>\n",
       "    <tr>\n",
       "      <th>2</th>\n",
       "      <td>1</td>\n",
       "      <td>BULE CHA</td>\n",
       "      <td>5.000</td>\n",
       "    </tr>\n",
       "    <tr>\n",
       "      <th>3</th>\n",
       "      <td>1</td>\n",
       "      <td>CAFE EXPRESSO</td>\n",
       "      <td>8.000</td>\n",
       "    </tr>\n",
       "    <tr>\n",
       "      <th>4</th>\n",
       "      <td>1</td>\n",
       "      <td>CAIPIROSKA</td>\n",
       "      <td>2.000</td>\n",
       "    </tr>\n",
       "  </tbody>\n",
       "</table>\n",
       "</div>"
      ],
      "text/plain": [
       "   week     prod.xProd  prod.qCom\n",
       "0     1           AGUA    212.000\n",
       "1     1         BUFFET    292.276\n",
       "2     1       BULE CHA      5.000\n",
       "3     1  CAFE EXPRESSO      8.000\n",
       "4     1     CAIPIROSKA      2.000"
      ]
     },
     "execution_count": 9,
     "metadata": {},
     "output_type": "execute_result"
    }
   ],
   "source": [
    "new_df = full.groupby(['week', 'prod.xProd'])['prod.qCom'].sum().reset_index()\n",
    "new_df.head()"
   ]
  },
  {
   "cell_type": "markdown",
   "metadata": {},
   "source": [
    "We only have 61 examples, so it's unlikely that a machine learning model can beat a very simple baseline. To have a strong baseline, let's use the last (or current) week product sales as the prediction for the next week. Let's store the predictions from week 2 for future use."
   ]
  },
  {
   "cell_type": "code",
   "execution_count": 10,
   "metadata": {},
   "outputs": [
    {
     "name": "stdout",
     "output_type": "stream",
     "text": [
      "RMSLE: 0.504249829163\n"
     ]
    }
   ],
   "source": [
    "p = new_df[new_df['week'] == 2].set_index('prod.xProd')\n",
    "y = new_df[new_df['week'] == 3].set_index('prod.xProd')\n",
    "\n",
    "p = p.reindex(y.index).fillna(0)\n",
    "\n",
    "print('RMSLE:', np.sqrt(mean_squared_error(np.log1p(y['prod.qCom']),np.log1p(p['prod.qCom']))))\n"
   ]
  },
  {
   "cell_type": "markdown",
   "metadata": {},
   "source": [
    "We can interpret this result as about 50% error in our predictions, which is **very bad** for a sales forecast. Our goal should be at least less than 20%, but ideally under 10%. Let's try machine learning."
   ]
  },
  {
   "cell_type": "markdown",
   "metadata": {},
   "source": [
    "Again, let's take week 3 as validation and weeks 1 and 2 as training."
   ]
  },
  {
   "cell_type": "code",
   "execution_count": 11,
   "metadata": {
    "collapsed": true
   },
   "outputs": [],
   "source": [
    "Xtr, Xts = new_df[new_df['week'] != 3], new_df[new_df['week'] == 3]"
   ]
  },
  {
   "cell_type": "markdown",
   "metadata": {},
   "source": [
    "The most basic transformation of categorical variables to numeric, so that we can use with the sklearn ML models is to one-hot encode. Basically each level of the variable will become a column with a 0 if absent, or 1 if present. Before we do this transformation, we need to transform the strings to numbers, in an ordinal encoding. To simplify, let's fill any missing values with 999, as it's a number far away from the amount of products."
   ]
  },
  {
   "cell_type": "code",
   "execution_count": 12,
   "metadata": {},
   "outputs": [
    {
     "name": "stderr",
     "output_type": "stream",
     "text": [
      "/Users/mnestevao/anaconda3/lib/python3.5/site-packages/ipykernel/__main__.py:2: SettingWithCopyWarning: \n",
      "A value is trying to be set on a copy of a slice from a DataFrame.\n",
      "Try using .loc[row_indexer,col_indexer] = value instead\n",
      "\n",
      "See the caveats in the documentation: http://pandas.pydata.org/pandas-docs/stable/indexing.html#indexing-view-versus-copy\n",
      "  from ipykernel import kernelapp as app\n",
      "/Users/mnestevao/anaconda3/lib/python3.5/site-packages/ipykernel/__main__.py:3: SettingWithCopyWarning: \n",
      "A value is trying to be set on a copy of a slice from a DataFrame.\n",
      "Try using .loc[row_indexer,col_indexer] = value instead\n",
      "\n",
      "See the caveats in the documentation: http://pandas.pydata.org/pandas-docs/stable/indexing.html#indexing-view-versus-copy\n",
      "  app.launch_new_instance()\n"
     ]
    }
   ],
   "source": [
    "encode_product = {prod: i for i, prod in enumerate(Xts['prod.xProd'].unique())}\n",
    "Xtr['encoded_products'] = Xtr['prod.xProd'].map(encode_product).fillna(999)\n",
    "Xts['encoded_products'] = Xts['prod.xProd'].map(encode_product).fillna(999)"
   ]
  },
  {
   "cell_type": "markdown",
   "metadata": {},
   "source": [
    "A variable that is usually important for time series forecasting are previous values of the target variable. In this case we use the previous week sales amount for each product as variables.\n",
    "\n",
    "We fill missing values with 0. This will hurt our predictions, but with this amount of data any method is doomed to fail. We could exclude the first week, but there still may be value there.\n",
    "\n",
    "We don't need to worry about the warnings, as the data is correctly set."
   ]
  },
  {
   "cell_type": "code",
   "execution_count": 13,
   "metadata": {},
   "outputs": [
    {
     "name": "stderr",
     "output_type": "stream",
     "text": [
      "/Users/mnestevao/anaconda3/lib/python3.5/site-packages/ipykernel/__main__.py:1: SettingWithCopyWarning: \n",
      "A value is trying to be set on a copy of a slice from a DataFrame.\n",
      "Try using .loc[row_indexer,col_indexer] = value instead\n",
      "\n",
      "See the caveats in the documentation: http://pandas.pydata.org/pandas-docs/stable/indexing.html#indexing-view-versus-copy\n",
      "  if __name__ == '__main__':\n",
      "/Users/mnestevao/anaconda3/lib/python3.5/site-packages/ipykernel/__main__.py:2: SettingWithCopyWarning: \n",
      "A value is trying to be set on a copy of a slice from a DataFrame.\n",
      "Try using .loc[row_indexer,col_indexer] = value instead\n",
      "\n",
      "See the caveats in the documentation: http://pandas.pydata.org/pandas-docs/stable/indexing.html#indexing-view-versus-copy\n",
      "  from ipykernel import kernelapp as app\n",
      "/Users/mnestevao/anaconda3/lib/python3.5/site-packages/pandas/core/indexing.py:477: SettingWithCopyWarning: \n",
      "A value is trying to be set on a copy of a slice from a DataFrame.\n",
      "Try using .loc[row_indexer,col_indexer] = value instead\n",
      "\n",
      "See the caveats in the documentation: http://pandas.pydata.org/pandas-docs/stable/indexing.html#indexing-view-versus-copy\n",
      "  self.obj[item] = s\n"
     ]
    }
   ],
   "source": [
    "Xtr['prev_week_qty'] = Xtr['prod.xProd'].map(Xtr[Xtr['week'] == 1][['prod.xProd','prod.qCom']].set_index('prod.xProd').squeeze()).fillna(0)\n",
    "Xts['prev_week_qty'] = Xts['prod.xProd'].map(Xtr[Xtr['week'] == 2][['prod.xProd','prod.qCom']].set_index('prod.xProd').squeeze()).fillna(0)\n",
    "Xtr.loc[Xtr['week'] == 1, ['prev_week_qty']] = 0"
   ]
  },
  {
   "cell_type": "markdown",
   "metadata": {},
   "source": [
    "Let's look at a scatter plot between the previous week sales and sales from weeks in the training data. We see that it's very predictive, although the zeros in the first week hurt the plot."
   ]
  },
  {
   "cell_type": "code",
   "execution_count": 14,
   "metadata": {},
   "outputs": [
    {
     "data": {
      "text/plain": [
       "<matplotlib.axes._subplots.AxesSubplot at 0x11f6422e8>"
      ]
     },
     "execution_count": 14,
     "metadata": {},
     "output_type": "execute_result"
    },
    {
     "data": {
      "image/png": "[encoded data removed]",
      "text/plain": [
       "<matplotlib.figure.Figure at 0x11f63fa90>"
      ]
     },
     "metadata": {},
     "output_type": "display_data"
    }
   ],
   "source": [
    "Xtr.plot.scatter(x='prev_week_qty', y='prod.qCom')"
   ]
  },
  {
   "cell_type": "markdown",
   "metadata": {},
   "source": [
    "Now we train a Decision Tree model with our variables. With sklearn pipeline we can easily do the necessary transformations of the categoricals."
   ]
  },
  {
   "cell_type": "code",
   "execution_count": 29,
   "metadata": {},
   "outputs": [
    {
     "name": "stdout",
     "output_type": "stream",
     "text": [
      "Decision tree RMSLE: 0.740095891472\n"
     ]
    }
   ],
   "source": [
    "mdl = make_pipeline(OneHotEncoder(categorical_features=[0], handle_unknown='ignore'), \n",
    "                    DecisionTreeRegressor(min_samples_leaf=1, random_state=1))\n",
    "mdl.fit(Xtr[['encoded_products','prev_week_qty']], Xtr['prod.qCom'])\n",
    "p = mdl.predict(Xts[['encoded_products','prev_week_qty']])\n",
    "\n",
    "\n",
    "print('Decision tree RMSLE:', np.sqrt(mean_squared_error(np.log1p(Xts['prod.qCom']),np.log1p(p))))"
   ]
  },
  {
   "cell_type": "markdown",
   "metadata": {},
   "source": [
    "We see the prediction is even worse than our simple baseline. As we thought, Machine Learning will not be able to help us with this amount of data. Let's try removing the problematic \"last week sales\" variable, as half of the training data doesn't have it."
   ]
  },
  {
   "cell_type": "code",
   "execution_count": 30,
   "metadata": {},
   "outputs": [
    {
     "name": "stdout",
     "output_type": "stream",
     "text": [
      "Decision tree RMSLE: 0.414003052439\n"
     ]
    }
   ],
   "source": [
    "mdl = make_pipeline(OneHotEncoder(categorical_features=[0], handle_unknown='ignore'), \n",
    "                    DecisionTreeRegressor(min_samples_leaf=1, random_state=1))\n",
    "mdl.fit(Xtr[['encoded_products']], Xtr['prod.qCom'])\n",
    "p = mdl.predict(Xts[['encoded_products']])\n",
    "\n",
    "print('Decision tree RMSLE:', np.sqrt(mean_squared_error(np.log1p(Xts['prod.qCom']),np.log1p(p))))"
   ]
  },
  {
   "cell_type": "markdown",
   "metadata": {},
   "source": [
    "Although still bad from a practical perspective, we beat the baseline with our decision tree. Even though the sales last week is an important indicator, the fact we don't have good data about it makes it not useful for the model. With more data we can integrate many more variables to capture more effects, including seasonality."
   ]
  },
  {
   "cell_type": "markdown",
   "metadata": {},
   "source": [
    "Let's use all the data to train the model and predict week 4 with our \"best\" model"
   ]
  },
  {
   "cell_type": "code",
   "execution_count": 39,
   "metadata": {},
   "outputs": [],
   "source": [
    "reverse_encoding = {v:k for k,v in encode_product.items()}\n",
    "X = pd.concat([Xtr, Xts])\n",
    "week4 = pd.DataFrame(X['encoded_products'].unique())\n",
    "week4.columns = ['encoded_products']"
   ]
  },
  {
   "cell_type": "code",
   "execution_count": 40,
   "metadata": {},
   "outputs": [],
   "source": [
    "\n",
    "mdl = make_pipeline(OneHotEncoder(categorical_features=[0], handle_unknown='ignore'), \n",
    "                    DecisionTreeRegressor(min_samples_leaf=1, random_state=1))\n",
    "mdl.fit(X[['encoded_products']], X['prod.qCom'])\n",
    "p = mdl.predict(week4)"
   ]
  },
  {
   "cell_type": "code",
   "execution_count": 45,
   "metadata": {},
   "outputs": [],
   "source": [
    "week4_p = pd.DataFrame({'product': week4['encoded_products'].values, 'prediction': p})\n",
    "week4_p['product'] = week4_p['product'].map(reverse_encoding)\n",
    "week4_p[['product', 'prediction']]"
   ]
  },
  {
   "cell_type": "code",
   "execution_count": null,
   "metadata": {
    "collapsed": true
   },
   "outputs": [],
   "source": []
  }
 ],
 "metadata": {
  "anaconda-cloud": {},
  "kernelspec": {
   "display_name": "Python [Root]",
   "language": "python",
   "name": "Python [Root]"
  },
  "language_info": {
   "codemirror_mode": {
    "name": "ipython",
    "version": 3
   },
   "file_extension": ".py",
   "mimetype": "text/x-python",
   "name": "python",
   "nbconvert_exporter": "python",
   "pygments_lexer": "ipython3",
   "version": "3.5.2"
  }
 },
 "nbformat": 4,
 "nbformat_minor": 2
}
